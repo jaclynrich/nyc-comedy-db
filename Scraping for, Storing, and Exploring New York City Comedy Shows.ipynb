{
 "cells": [
  {
   "cell_type": "markdown",
   "metadata": {},
   "source": [
    "# Scraping for, Storing, and Exploring New York City Comedy Shows\n",
    "***\n",
    "***"
   ]
  },
  {
   "cell_type": "markdown",
   "metadata": {},
   "source": [
    "As a big fan of stand-up comedy, I found myself frustrated at the design of the Comedy Cellar's website and the lack of central lists of shows going on in New York City; apart from bigger shows which are usually listed on such sites as Ticketmaster, show information is only listed on individual comedy club websites.\n",
    "\n",
    "I was inspired to assemble the Comedy Cellar's shows, after interacting with their website. Users choose a date from a dropdown menu and it shows  the headlines for all of the shows that night, but then it requires the user to click on each headline individually to reveal the shows full information.  For each page this could require a user to click upto about ten times to show all desired information.\n",
    "\n",
    "The goal of this project was to both include the show information for the Comedy Cellar in an easily queryable format, and to store show information for multiple clubs in one database.  Currently I have successfully scraped for shows from the Comedy Cellar, The Stand NYC, and Carolines, with the possibility of adding more clubs in the future.  The shows were scraped for using BeautifulSoup on December 16, 2017.\n",
    "\n",
    "I chose MongoDB to store the shows, since it has a flexible schema and not all shows had values for all fields, and it would be better suited to storing array fields than SQL."
   ]
  },
  {
   "cell_type": "markdown",
   "metadata": {},
   "source": [
    "## Load in the Data\n",
    "***"
   ]
  },
  {
   "cell_type": "code",
   "execution_count": 1,
   "metadata": {
    "collapsed": true
   },
   "outputs": [],
   "source": [
    "import pymongo\n",
    "from pymongo import MongoClient\n",
    "from pprint import pprint\n",
    "import json\n",
    "from datetime import datetime\n",
    "import pandas as pd\n",
    "import numpy as np\n",
    "import matplotlib.pyplot as plt\n",
    "%matplotlib inline"
   ]
  },
  {
   "cell_type": "code",
   "execution_count": 2,
   "metadata": {
    "collapsed": true
   },
   "outputs": [],
   "source": [
    "client = MongoClient('localhost:27017')\n",
    "db = client['comedy']\n",
    "coll = db.shows"
   ]
  },
  {
   "cell_type": "code",
   "execution_count": 3,
   "metadata": {
    "collapsed": true
   },
   "outputs": [],
   "source": [
    "all_shows = []\n",
    "\n",
    "# Import all shows into the database\n",
    "with open('cellar_shows.json', 'r') as f_cellar, \\\n",
    "     open('the_stand_shows.json', 'r') as f_stand, \\\n",
    "     open('carolines_shows.json', 'r') as f_carolines:\n",
    "     \n",
    "    cellar_shows = json.load(f_cellar)\n",
    "    stand_shows = json.load(f_stand)\n",
    "    carolines_shows = json.load(f_carolines)\n",
    "     \n",
    "    all_shows = cellar_shows + stand_shows + carolines_shows\n",
    "    \n",
    "    # Convert dates and times from strings to datetime objects\n",
    "    for d in all_shows:\n",
    "        d['date'] = datetime.strptime(d['date'], '%B %d, %Y')         \n",
    "        for key, val in d['time'].items():\n",
    "            d['time'][key] = datetime.strptime(val, '%B %d, %Y %I:%M %p')\n",
    "        coll.insert_one(d)"
   ]
  },
  {
   "cell_type": "markdown",
   "metadata": {},
   "source": [
    "## Explore the Data\n",
    "***"
   ]
  },
  {
   "cell_type": "markdown",
   "metadata": {},
   "source": [
    "### Number of shows"
   ]
  },
  {
   "cell_type": "code",
   "execution_count": 4,
   "metadata": {},
   "outputs": [
    {
     "data": {
      "text/plain": [
       "190"
      ]
     },
     "execution_count": 4,
     "metadata": {},
     "output_type": "execute_result"
    }
   ],
   "source": [
    "coll.find().count()"
   ]
  },
  {
   "cell_type": "markdown",
   "metadata": {},
   "source": [
    "### Show one record"
   ]
  },
  {
   "cell_type": "code",
   "execution_count": 5,
   "metadata": {},
   "outputs": [
    {
     "name": "stdout",
     "output_type": "stream",
     "text": [
      "{'_id': ObjectId('5a45a2e48b602df3b9c0a10a'),\n",
      " 'acts': [{'name': 'Cipha Sounds', 'type': 'MC'},\n",
      "          {'name': 'Gregg Rogell', 'type': 'performer'},\n",
      "          {'name': 'Lynne Koplitz', 'type': 'performer'},\n",
      "          {'name': 'Keith Robinson', 'type': 'performer'},\n",
      "          {'name': 'Nick Griffin', 'type': 'performer'},\n",
      "          {'name': 'Andy Tranelli', 'type': 'performer'},\n",
      "          {'name': 'Greer Barnes', 'type': 'performer'}],\n",
      " 'date': datetime.datetime(2017, 12, 16, 0, 0),\n",
      " 'date_str': 'December 16, 2017',\n",
      " 'day': 'Saturday',\n",
      " 'location': 'Comedy Cellar - MacDougal Street',\n",
      " 'price': 24.0,\n",
      " 'ticket_link': 'http://www.comedycellar.com/reservation/?showid=1513468800',\n",
      " 'time': {'show_time': datetime.datetime(2017, 12, 16, 19, 0)},\n",
      " 'time_str': {'show_time': '7:00 pm'}}\n"
     ]
    }
   ],
   "source": [
    "pprint(coll.find_one())"
   ]
  },
  {
   "cell_type": "markdown",
   "metadata": {},
   "source": [
    "### Number of shows by date"
   ]
  },
  {
   "cell_type": "code",
   "execution_count": 6,
   "metadata": {},
   "outputs": [
    {
     "name": "stdout",
     "output_type": "stream",
     "text": [
      "{'_id': {'date': datetime.datetime(2017, 12, 16, 0, 0)}, 'count': 14}\n",
      "{'_id': {'date': datetime.datetime(2017, 12, 17, 0, 0)}, 'count': 11}\n",
      "{'_id': {'date': datetime.datetime(2017, 12, 18, 0, 0)}, 'count': 6}\n",
      "{'_id': {'date': datetime.datetime(2017, 12, 19, 0, 0)}, 'count': 12}\n",
      "{'_id': {'date': datetime.datetime(2017, 12, 20, 0, 0)}, 'count': 10}\n",
      "{'_id': {'date': datetime.datetime(2017, 12, 21, 0, 0)}, 'count': 10}\n",
      "{'_id': {'date': datetime.datetime(2017, 12, 22, 0, 0)}, 'count': 5}\n",
      "{'_id': {'date': datetime.datetime(2017, 12, 23, 0, 0)}, 'count': 6}\n",
      "{'_id': {'date': datetime.datetime(2017, 12, 24, 0, 0)}, 'count': 3}\n",
      "{'_id': {'date': datetime.datetime(2017, 12, 25, 0, 0)}, 'count': 2}\n"
     ]
    }
   ],
   "source": [
    "res = list(coll.aggregate([\n",
    "        {'$group': {'_id': {'date': '$date'},\n",
    "                    'count': {'$sum': 1}}},\n",
    "        {'$sort': {'_id': 1}}\n",
    "]))\n",
    "\n",
    "for r in res[:10]:\n",
    "    pprint(r)"
   ]
  },
  {
   "cell_type": "code",
   "execution_count": 7,
   "metadata": {},
   "outputs": [
    {
     "data": {
      "image/png": "[encoded data removed]",
      "text/plain": [
       "<matplotlib.figure.Figure at 0x10ad847f0>"
      ]
     },
     "metadata": {},
     "output_type": "display_data"
    }
   ],
   "source": [
    "dates = []\n",
    "counts = []\n",
    "for s in res:\n",
    "    dates.append(s['_id']['date'])\n",
    "    counts.append(s['count'])\n",
    "    \n",
    "# Load dates and counts into dataframe and resample the index to include any missing days\n",
    "df = pd.DataFrame({'count': counts},\n",
    "                   index = dates)\n",
    "df = df.resample('D', closed='right').sum().fillna(0)\n",
    "\n",
    "date_strings = [dt.strftime(\"%-m-%-d-%y\") for dt in df.index]\n",
    "\n",
    "# Plot the number of shows by date\n",
    "fig, ax = plt.subplots(1, 1, figsize = (15,6))\n",
    "\n",
    "plt.plot(range(len(df.index)), df['count'])\n",
    "\n",
    "plt.xticks(range(0, len(date_strings), 10), date_strings[::10])\n",
    "plt.ylabel('Frequency\\n', fontsize=16)\n",
    "plt.title(\"\\nNumber of Shows by Date\\n\", fontsize=18)\n",
    "plt.setp(ax.get_xticklabels(), fontsize=12)\n",
    "plt.setp(ax.get_yticklabels(), fontsize=12)\n",
    "fig.autofmt_xdate()\n",
    "\n",
    "plt.show()"
   ]
  },
  {
   "cell_type": "code",
   "execution_count": 8,
   "metadata": {},
   "outputs": [
    {
     "data": {
      "text/plain": [
       "[{'_id': 'Carolines', 'count': 51}]"
      ]
     },
     "execution_count": 8,
     "metadata": {},
     "output_type": "execute_result"
    }
   ],
   "source": [
    "list(coll.aggregate([\n",
    "        {'$match': {'date': {'$gt' : datetime(2018, 1, 16)}}},\n",
    "        {'$group': {'_id': '$location',\n",
    "                    'count': {'$sum': 1}}},\n",
    "        {'$sort': {'count': -1}}\n",
    "]))"
   ]
  },
  {
   "cell_type": "markdown",
   "metadata": {},
   "source": [
    "After about a month after the shows were scraped for there are much fewer shows and a significant number of dates that have no scheduled shows.  Carolines is the only comedy club in the dataset that has shows scheduled more than a month in advance.\n",
    "Moreover, it has a significant number of shows scheduled after January 16th."
   ]
  },
  {
   "cell_type": "markdown",
   "metadata": {},
   "source": [
    "### Number of shows by day of the week"
   ]
  },
  {
   "cell_type": "code",
   "execution_count": 9,
   "metadata": {},
   "outputs": [
    {
     "name": "stdout",
     "output_type": "stream",
     "text": [
      "{'_id': 'Saturday', 'count': 40}\n",
      "{'_id': 'Sunday', 'count': 33}\n",
      "{'_id': 'Thursday', 'count': 31}\n",
      "{'_id': 'Tuesday', 'count': 27}\n",
      "{'_id': 'Wednesday', 'count': 24}\n",
      "{'_id': 'Friday', 'count': 23}\n",
      "{'_id': 'Monday', 'count': 12}\n"
     ]
    }
   ],
   "source": [
    "res = coll.aggregate([\n",
    "        {'$group': {'_id': '$day',\n",
    "                    'count': {'$sum': 1}}},\n",
    "        {'$sort': {'count': -1}}\n",
    "])\n",
    "\n",
    "day_counts = []\n",
    "for r in res:\n",
    "    pprint(r)\n",
    "    day_counts.append(r)"
   ]
  },
  {
   "cell_type": "code",
   "execution_count": 10,
   "metadata": {},
   "outputs": [
    {
     "data": {
      "image/png": "[encoded data removed]",
      "text/plain": [
       "<matplotlib.figure.Figure at 0x10ad77ac8>"
      ]
     },
     "metadata": {},
     "output_type": "display_data"
    }
   ],
   "source": [
    "# Plot the number of shows by day of week\n",
    "SORT_ORDER = {'Monday': 0, 'Tuesday':1, 'Wednesday':2, 'Thursday':3, \n",
    "              'Friday':4, 'Saturday':5, 'Sunday':6}\n",
    "sorted_day_counts = sorted(day_counts, key=lambda k: SORT_ORDER[k['_id']])\n",
    "\n",
    "days = []\n",
    "counts = []\n",
    "for s in sorted_day_counts:\n",
    "    days.append(s['_id'])\n",
    "    counts.append(s['count'])\n",
    "\n",
    "fig, ax  = plt.subplots(1, 1, figsize = (10,6))\n",
    "\n",
    "plt.bar(range(len(days)), counts)\n",
    "plt.xticks(range(len(days)), days)\n",
    "plt.ylabel('Frequency\\n', fontsize=16)\n",
    "plt.title(\"\\nNumber of Shows by Day of the Week\\n\", fontsize=18)\n",
    "plt.setp(ax.get_xticklabels(), fontsize=12)\n",
    "plt.setp(ax.get_yticklabels(), fontsize=12)\n",
    "\n",
    "plt.show()"
   ]
  },
  {
   "cell_type": "markdown",
   "metadata": {},
   "source": [
    "It makes sense that Saturday would have the most shows scheduled and Monday would have the least.  It was surprising to me that Sunday would have more shows than Friday, although a larger sample size could reveal this to be atypical."
   ]
  },
  {
   "cell_type": "markdown",
   "metadata": {},
   "source": [
    "### Number of shows by show time"
   ]
  },
  {
   "cell_type": "code",
   "execution_count": 11,
   "metadata": {},
   "outputs": [
    {
     "name": "stdout",
     "output_type": "stream",
     "text": [
      "{'_id': datetime.datetime(2017, 12, 16, 0, 0), 'count': 1}\n",
      "{'_id': datetime.datetime(2017, 12, 16, 0, 15), 'count': 1}\n",
      "{'_id': datetime.datetime(2017, 12, 16, 16, 0), 'count': 1}\n",
      "{'_id': datetime.datetime(2017, 12, 16, 17, 45), 'count': 1}\n",
      "{'_id': datetime.datetime(2017, 12, 16, 19, 0), 'count': 1}\n",
      "{'_id': datetime.datetime(2017, 12, 16, 19, 15), 'count': 1}\n",
      "{'_id': datetime.datetime(2017, 12, 16, 19, 30), 'count': 1}\n",
      "{'_id': datetime.datetime(2017, 12, 16, 20, 0), 'count': 1}\n",
      "{'_id': datetime.datetime(2017, 12, 16, 20, 45), 'count': 1}\n",
      "{'_id': datetime.datetime(2017, 12, 16, 21, 15), 'count': 1}\n"
     ]
    }
   ],
   "source": [
    "res = list(coll.aggregate([\n",
    "        {'$group': {'_id': '$time.show_time',\n",
    "                    'count': {'$sum': 1}}},\n",
    "        {'$sort': {'_id': 1}}\n",
    "]))\n",
    "\n",
    "for r in res[:10]:\n",
    "    print(r)"
   ]
  },
  {
   "cell_type": "code",
   "execution_count": 12,
   "metadata": {},
   "outputs": [
    {
     "data": {
      "text/html": [
       "<div>\n",
       "<style>\n",
       "    .dataframe thead tr:only-child th {\n",
       "        text-align: right;\n",
       "    }\n",
       "\n",
       "    .dataframe thead th {\n",
       "        text-align: left;\n",
       "    }\n",
       "\n",
       "    .dataframe tbody tr th {\n",
       "        vertical-align: top;\n",
       "    }\n",
       "</style>\n",
       "<table border=\"1\" class=\"dataframe\">\n",
       "  <thead>\n",
       "    <tr style=\"text-align: right;\">\n",
       "      <th></th>\n",
       "      <th>time</th>\n",
       "      <th>count</th>\n",
       "    </tr>\n",
       "  </thead>\n",
       "  <tbody>\n",
       "    <tr>\n",
       "      <th>0</th>\n",
       "      <td>2017-12-16 00:00:00</td>\n",
       "      <td>1</td>\n",
       "    </tr>\n",
       "    <tr>\n",
       "      <th>1</th>\n",
       "      <td>2017-12-16 00:15:00</td>\n",
       "      <td>1</td>\n",
       "    </tr>\n",
       "    <tr>\n",
       "      <th>2</th>\n",
       "      <td>2017-12-16 16:00:00</td>\n",
       "      <td>1</td>\n",
       "    </tr>\n",
       "    <tr>\n",
       "      <th>3</th>\n",
       "      <td>2017-12-16 17:45:00</td>\n",
       "      <td>1</td>\n",
       "    </tr>\n",
       "    <tr>\n",
       "      <th>4</th>\n",
       "      <td>2017-12-16 19:00:00</td>\n",
       "      <td>1</td>\n",
       "    </tr>\n",
       "  </tbody>\n",
       "</table>\n",
       "</div>"
      ],
      "text/plain": [
       "                 time  count\n",
       "0 2017-12-16 00:00:00      1\n",
       "1 2017-12-16 00:15:00      1\n",
       "2 2017-12-16 16:00:00      1\n",
       "3 2017-12-16 17:45:00      1\n",
       "4 2017-12-16 19:00:00      1"
      ]
     },
     "execution_count": 12,
     "metadata": {},
     "output_type": "execute_result"
    }
   ],
   "source": [
    "# Load query results into a dataframe\n",
    "df = pd.DataFrame(res)\n",
    "df.columns = ['time', 'count']\n",
    "df.head()"
   ]
  },
  {
   "cell_type": "code",
   "execution_count": 13,
   "metadata": {},
   "outputs": [
    {
     "data": {
      "text/html": [
       "<div>\n",
       "<style>\n",
       "    .dataframe thead tr:only-child th {\n",
       "        text-align: right;\n",
       "    }\n",
       "\n",
       "    .dataframe thead th {\n",
       "        text-align: left;\n",
       "    }\n",
       "\n",
       "    .dataframe tbody tr th {\n",
       "        vertical-align: top;\n",
       "    }\n",
       "</style>\n",
       "<table border=\"1\" class=\"dataframe\">\n",
       "  <thead>\n",
       "    <tr style=\"text-align: right;\">\n",
       "      <th></th>\n",
       "      <th>time</th>\n",
       "      <th>count</th>\n",
       "    </tr>\n",
       "  </thead>\n",
       "  <tbody>\n",
       "    <tr>\n",
       "      <th>0</th>\n",
       "      <td>2017-12-16 00:00:00</td>\n",
       "      <td>1.0</td>\n",
       "    </tr>\n",
       "    <tr>\n",
       "      <th>1</th>\n",
       "      <td>2017-12-16 00:15:00</td>\n",
       "      <td>1.0</td>\n",
       "    </tr>\n",
       "    <tr>\n",
       "      <th>2</th>\n",
       "      <td>2017-12-16 00:30:00</td>\n",
       "      <td>0.0</td>\n",
       "    </tr>\n",
       "    <tr>\n",
       "      <th>3</th>\n",
       "      <td>2017-12-16 00:45:00</td>\n",
       "      <td>0.0</td>\n",
       "    </tr>\n",
       "    <tr>\n",
       "      <th>4</th>\n",
       "      <td>2017-12-16 01:00:00</td>\n",
       "      <td>0.0</td>\n",
       "    </tr>\n",
       "  </tbody>\n",
       "</table>\n",
       "</div>"
      ],
      "text/plain": [
       "                 time  count\n",
       "0 2017-12-16 00:00:00    1.0\n",
       "1 2017-12-16 00:15:00    1.0\n",
       "2 2017-12-16 00:30:00    0.0\n",
       "3 2017-12-16 00:45:00    0.0\n",
       "4 2017-12-16 01:00:00    0.0"
      ]
     },
     "execution_count": 13,
     "metadata": {},
     "output_type": "execute_result"
    }
   ],
   "source": [
    "# resample the index so that there are entries every 15 minutes\n",
    "df = df.resample('15Min', on='time').sum().fillna(0)\n",
    "df.reset_index(level=0, inplace=True)\n",
    "df.head()"
   ]
  },
  {
   "cell_type": "code",
   "execution_count": 14,
   "metadata": {},
   "outputs": [
    {
     "data": {
      "text/html": [
       "<div>\n",
       "<style>\n",
       "    .dataframe thead tr:only-child th {\n",
       "        text-align: right;\n",
       "    }\n",
       "\n",
       "    .dataframe thead th {\n",
       "        text-align: left;\n",
       "    }\n",
       "\n",
       "    .dataframe tbody tr th {\n",
       "        vertical-align: top;\n",
       "    }\n",
       "</style>\n",
       "<table border=\"1\" class=\"dataframe\">\n",
       "  <thead>\n",
       "    <tr style=\"text-align: right;\">\n",
       "      <th></th>\n",
       "      <th>time</th>\n",
       "      <th>count</th>\n",
       "    </tr>\n",
       "  </thead>\n",
       "  <tbody>\n",
       "    <tr>\n",
       "      <th>0</th>\n",
       "      <td>00:00:00</td>\n",
       "      <td>1.0</td>\n",
       "    </tr>\n",
       "    <tr>\n",
       "      <th>1</th>\n",
       "      <td>00:15:00</td>\n",
       "      <td>1.0</td>\n",
       "    </tr>\n",
       "    <tr>\n",
       "      <th>2</th>\n",
       "      <td>00:30:00</td>\n",
       "      <td>0.0</td>\n",
       "    </tr>\n",
       "    <tr>\n",
       "      <th>3</th>\n",
       "      <td>00:45:00</td>\n",
       "      <td>0.0</td>\n",
       "    </tr>\n",
       "    <tr>\n",
       "      <th>4</th>\n",
       "      <td>01:00:00</td>\n",
       "      <td>0.0</td>\n",
       "    </tr>\n",
       "  </tbody>\n",
       "</table>\n",
       "</div>"
      ],
      "text/plain": [
       "       time  count\n",
       "0  00:00:00    1.0\n",
       "1  00:15:00    1.0\n",
       "2  00:30:00    0.0\n",
       "3  00:45:00    0.0\n",
       "4  01:00:00    0.0"
      ]
     },
     "execution_count": 14,
     "metadata": {},
     "output_type": "execute_result"
    }
   ],
   "source": [
    "# Only get the time part from the datetime objects\n",
    "df['time'] = df['time'].apply(datetime.time)\n",
    "df.head()"
   ]
  },
  {
   "cell_type": "code",
   "execution_count": 15,
   "metadata": {},
   "outputs": [
    {
     "data": {
      "text/html": [
       "<div>\n",
       "<style>\n",
       "    .dataframe thead tr:only-child th {\n",
       "        text-align: right;\n",
       "    }\n",
       "\n",
       "    .dataframe thead th {\n",
       "        text-align: left;\n",
       "    }\n",
       "\n",
       "    .dataframe tbody tr th {\n",
       "        vertical-align: top;\n",
       "    }\n",
       "</style>\n",
       "<table border=\"1\" class=\"dataframe\">\n",
       "  <thead>\n",
       "    <tr style=\"text-align: right;\">\n",
       "      <th></th>\n",
       "      <th>time</th>\n",
       "      <th>count</th>\n",
       "    </tr>\n",
       "  </thead>\n",
       "  <tbody>\n",
       "    <tr>\n",
       "      <th>0</th>\n",
       "      <td>00:00</td>\n",
       "      <td>6.0</td>\n",
       "    </tr>\n",
       "    <tr>\n",
       "      <th>1</th>\n",
       "      <td>00:15</td>\n",
       "      <td>1.0</td>\n",
       "    </tr>\n",
       "    <tr>\n",
       "      <th>2</th>\n",
       "      <td>00:30</td>\n",
       "      <td>2.0</td>\n",
       "    </tr>\n",
       "    <tr>\n",
       "      <th>3</th>\n",
       "      <td>00:45</td>\n",
       "      <td>0.0</td>\n",
       "    </tr>\n",
       "    <tr>\n",
       "      <th>4</th>\n",
       "      <td>01:00</td>\n",
       "      <td>0.0</td>\n",
       "    </tr>\n",
       "  </tbody>\n",
       "</table>\n",
       "</div>"
      ],
      "text/plain": [
       "    time  count\n",
       "0  00:00    6.0\n",
       "1  00:15    1.0\n",
       "2  00:30    2.0\n",
       "3  00:45    0.0\n",
       "4  01:00    0.0"
      ]
     },
     "execution_count": 15,
     "metadata": {},
     "output_type": "execute_result"
    }
   ],
   "source": [
    "# Group all of the same times together\n",
    "grouped = df.groupby('time').sum().reset_index()\n",
    "grouped['time'] = grouped['time'].apply(lambda x: str(x)[:-3]) # do not include seconds\n",
    "grouped.head()"
   ]
  },
  {
   "cell_type": "code",
   "execution_count": 16,
   "metadata": {},
   "outputs": [
    {
     "data": {
      "text/html": [
       "<div>\n",
       "<style>\n",
       "    .dataframe thead tr:only-child th {\n",
       "        text-align: right;\n",
       "    }\n",
       "\n",
       "    .dataframe thead th {\n",
       "        text-align: left;\n",
       "    }\n",
       "\n",
       "    .dataframe tbody tr th {\n",
       "        vertical-align: top;\n",
       "    }\n",
       "</style>\n",
       "<table border=\"1\" class=\"dataframe\">\n",
       "  <thead>\n",
       "    <tr style=\"text-align: right;\">\n",
       "      <th></th>\n",
       "      <th>count</th>\n",
       "    </tr>\n",
       "    <tr>\n",
       "      <th>time</th>\n",
       "      <th></th>\n",
       "    </tr>\n",
       "  </thead>\n",
       "  <tbody>\n",
       "    <tr>\n",
       "      <th>13:00</th>\n",
       "      <td>0.0</td>\n",
       "    </tr>\n",
       "    <tr>\n",
       "      <th>13:15</th>\n",
       "      <td>0.0</td>\n",
       "    </tr>\n",
       "    <tr>\n",
       "      <th>13:30</th>\n",
       "      <td>1.0</td>\n",
       "    </tr>\n",
       "    <tr>\n",
       "      <th>13:45</th>\n",
       "      <td>0.0</td>\n",
       "    </tr>\n",
       "    <tr>\n",
       "      <th>14:00</th>\n",
       "      <td>0.0</td>\n",
       "    </tr>\n",
       "  </tbody>\n",
       "</table>\n",
       "</div>"
      ],
      "text/plain": [
       "       count\n",
       "time        \n",
       "13:00    0.0\n",
       "13:15    0.0\n",
       "13:30    1.0\n",
       "13:45    0.0\n",
       "14:00    0.0"
      ]
     },
     "execution_count": 16,
     "metadata": {},
     "output_type": "execute_result"
    }
   ],
   "source": [
    "# Sort the times so as to not include the middle chunk of the day with\n",
    "# no shows and put times after midnight at the end of the day\n",
    "df_plot = grouped.iloc[np.r_[52:96, 0:5], :].set_index('time')\n",
    "df_plot.head()"
   ]
  },
  {
   "cell_type": "code",
   "execution_count": 17,
   "metadata": {},
   "outputs": [
    {
     "data": {
      "image/png": "[encoded data removed]",
      "text/plain": [
       "<matplotlib.figure.Figure at 0x113991320>"
      ]
     },
     "metadata": {},
     "output_type": "display_data"
    }
   ],
   "source": [
    "df_plot.plot(kind = 'bar', figsize = (11, 7), legend = False)\n",
    "\n",
    "plt.xticks(range(0, len(df_plot.index), 4), df_plot.index[::4], rotation=45, fontsize=14)\n",
    "plt.xlabel('\\nTime', fontsize=14)\n",
    "plt.ylabel('Frequency\\n', fontsize=16)\n",
    "plt.title(\"\\nNumber of Shows by Time of Day\\n\", fontsize=18)\n",
    "plt.setp(ax.get_xticklabels(), fontsize=14)\n",
    "plt.setp(ax.get_yticklabels(), fontsize=14)\n",
    "\n",
    "plt.show()"
   ]
  },
  {
   "cell_type": "markdown",
   "metadata": {},
   "source": [
    "Shows are scheduled at 15 minute intervals, and overall 7:30 pm is by far the most popular show time, and most other shows occur after this time."
   ]
  },
  {
   "cell_type": "markdown",
   "metadata": {},
   "source": [
    "### Number of shows by location"
   ]
  },
  {
   "cell_type": "code",
   "execution_count": 18,
   "metadata": {},
   "outputs": [
    {
     "name": "stdout",
     "output_type": "stream",
     "text": [
      "{'_id': 'Comedy Cellar - Village Underground', 'count': 11}\n",
      "{'_id': 'Comedy Cellar - Fat Black Pussycat Lounge', 'count': 22}\n",
      "{'_id': 'Comedy Cellar - MacDougal Street', 'count': 26}\n",
      "{'_id': 'The Stand NYC', 'count': 40}\n",
      "{'_id': 'Carolines', 'count': 91}\n"
     ]
    }
   ],
   "source": [
    "res = list(coll.aggregate([\n",
    "        {'$group': {'_id': '$location',\n",
    "                    'count': {'$sum': 1}}},\n",
    "        {'$sort': {'count': 1}}\n",
    "]))\n",
    "\n",
    "for r in res:\n",
    "    pprint(r)"
   ]
  },
  {
   "cell_type": "code",
   "execution_count": 19,
   "metadata": {},
   "outputs": [
    {
     "data": {
      "image/png": "[encoded data removed]",
      "text/plain": [
       "<matplotlib.figure.Figure at 0x113732a20>"
      ]
     },
     "metadata": {},
     "output_type": "display_data"
    }
   ],
   "source": [
    "locs = []\n",
    "counts = []\n",
    "for r in res:\n",
    "    locs.append(r['_id'])\n",
    "    counts.append(r['count'])\n",
    "    \n",
    "fig, ax  = plt.subplots(1, 1, figsize = (10,6))\n",
    "\n",
    "plt.barh(range(len(locs)), counts)\n",
    "plt.yticks(range(len(locs)), locs)\n",
    "plt.xlabel('Frequency', fontsize=14)\n",
    "plt.title(\"\\nNumber of Shows by Location\\n\", fontsize=18)\n",
    "plt.setp(ax.get_xticklabels(), fontsize=12)\n",
    "plt.setp(ax.get_yticklabels(), fontsize=13)\n",
    "\n",
    "plt.show()"
   ]
  },
  {
   "cell_type": "markdown",
   "metadata": {},
   "source": [
    "### Average number of shows per night at each location"
   ]
  },
  {
   "cell_type": "code",
   "execution_count": 20,
   "metadata": {},
   "outputs": [
    {
     "name": "stdout",
     "output_type": "stream",
     "text": [
      "{'_id': {'location': 'Comedy Cellar - MacDougal Street'},\n",
      " 'avg': 3.7142857142857144}\n",
      "{'_id': {'location': 'The Stand NYC'}, 'avg': 2.2222222222222223}\n",
      "{'_id': {'location': 'Comedy Cellar - Village Underground'}, 'avg': 2.2}\n",
      "{'_id': {'location': 'Comedy Cellar - Fat Black Pussycat Lounge'},\n",
      " 'avg': 1.8333333333333333}\n",
      "{'_id': {'location': 'Carolines'}, 'avg': 1.1973684210526316}\n"
     ]
    }
   ],
   "source": [
    "res = list(coll.aggregate([\n",
    "        {'$group': {'_id': {'location': '$location',\n",
    "                            'date': '$date'},\n",
    "                    'count': {'$sum': 1}}},\n",
    "        {'$group': {'_id': {'location': '$_id.location'},\n",
    "                    'avg': {'$avg': '$count'}}},\n",
    "        {'$sort': {'avg': -1}}\n",
    "]))\n",
    "\n",
    "for r in res:\n",
    "    pprint(r)"
   ]
  },
  {
   "cell_type": "markdown",
   "metadata": {},
   "source": [
    "### Most expensive tickets"
   ]
  },
  {
   "cell_type": "code",
   "execution_count": 21,
   "metadata": {},
   "outputs": [
    {
     "name": "stdout",
     "output_type": "stream",
     "text": [
      "{'price': 155.0, 'date_str': 'December 31, 2017'}\n",
      "{'price': 145.0, 'date_str': 'December 31, 2017'}\n",
      "{'date_str': 'January 25, 2018', 'price': 53.0}\n",
      "{'date_str': 'January 26, 2018', 'price': 53.0}\n",
      "{'date_str': 'January 28, 2018', 'price': 53.0}\n",
      "{'date_str': 'February 8, 2018', 'price': 49.0}\n",
      "{'date_str': 'February 9, 2018', 'price': 49.0}\n",
      "{'date_str': 'February 10, 2018', 'price': 49.0}\n",
      "{'date_str': 'February 11, 2018', 'price': 49.0}\n",
      "{'date_str': 'April 14, 2018', 'price': 49.0}\n"
     ]
    }
   ],
   "source": [
    "query = {'price' : {'$exists': 1}}\n",
    "projection = {'_id': 0, 'price': 1, 'date_str': 1}\n",
    "\n",
    "for doc in list(coll.find(query, projection).sort('price', pymongo.DESCENDING))[:10]:\n",
    "    print(doc)"
   ]
  },
  {
   "cell_type": "markdown",
   "metadata": {},
   "source": [
    "The most expensive shows, by far, are those occurring on December 31 (New Year's Eve).  Most restaurants, clubs, etc. charge a premium for events occuring on this night."
   ]
  },
  {
   "cell_type": "markdown",
   "metadata": {},
   "source": [
    "### Number of shows by ticket price"
   ]
  },
  {
   "cell_type": "code",
   "execution_count": 22,
   "metadata": {},
   "outputs": [
    {
     "data": {
      "image/png": "[encoded data removed]",
      "text/plain": [
       "<matplotlib.figure.Figure at 0x1137ab5f8>"
      ]
     },
     "metadata": {},
     "output_type": "display_data"
    }
   ],
   "source": [
    "prices = []\n",
    "for s in coll.find(query, projection):\n",
    "    prices.append(s['price'])\n",
    "\n",
    "fig, ax  = plt.subplots(1, 1, figsize = (10,6))\n",
    "\n",
    "plt.hist(prices)\n",
    "plt.xlabel('\\nPrice in US$\\n', fontsize=16)\n",
    "plt.ylabel('Frequency\\n', fontsize=16)\n",
    "plt.title('Number of Shows by Price\\n', fontsize=18)\n",
    "\n",
    "plt.setp(ax.get_xticklabels(), fontsize=12)\n",
    "plt.setp(ax.get_yticklabels(), fontsize=12)\n",
    "\n",
    "plt.show()"
   ]
  },
  {
   "cell_type": "code",
   "execution_count": 23,
   "metadata": {},
   "outputs": [
    {
     "data": {
      "image/png": "[encoded data removed]",
      "text/plain": [
       "<matplotlib.figure.Figure at 0x10acb7400>"
      ]
     },
     "metadata": {},
     "output_type": "display_data"
    }
   ],
   "source": [
    "fig, ax  = plt.subplots(1, 1, figsize = (10,6))\n",
    "\n",
    "plt.hist([p for p in prices if p < 80])\n",
    "plt.xlabel('\\nPrice in US$\\n', fontsize=16)\n",
    "plt.ylabel('Frequency\\n', fontsize=16)\n",
    "plt.suptitle('Number of Shows by Price\\n', y=1.02, fontsize=18)\n",
    "plt.title('\\nExcluding Outliers', y=1.04, fontsize=12)\n",
    "\n",
    "plt.setp(ax.get_xticklabels(), fontsize=12)\n",
    "plt.setp(ax.get_yticklabels(), fontsize=12)\n",
    "\n",
    "plt.show()"
   ]
  },
  {
   "cell_type": "markdown",
   "metadata": {},
   "source": [
    "### Ticket prices by location"
   ]
  },
  {
   "cell_type": "code",
   "execution_count": 24,
   "metadata": {},
   "outputs": [
    {
     "data": {
      "image/png": "[encoded data removed]",
      "text/plain": [
       "<matplotlib.figure.Figure at 0x11398cfd0>"
      ]
     },
     "metadata": {},
     "output_type": "display_data"
    }
   ],
   "source": [
    "query = {'price' : {'$exists': 1}, 'location': 'The Stand NYC'}\n",
    "projection = {'_id': 0, 'price': 1}\n",
    "docs = list(coll.find(query, projection).sort('price', pymongo.DESCENDING))\n",
    "stand_prices = [docs['price'] for docs in docs if docs['price'] < 80]\n",
    "\n",
    "query = {'price' : {'$exists': 1}, 'location': 'Carolines'}\n",
    "projection = {'_id': 0, 'price': 1}\n",
    "docs = list(coll.find(query, projection).sort('price', pymongo.DESCENDING))\n",
    "carolines_prices = [docs['price'] for docs in docs ]\n",
    "\n",
    "query = {'price' : {'$exists': 1}, 'location': {'$regex': 'Comedy Cellar'}}\n",
    "projection = {'_id': 0, 'price': 1}\n",
    "docs = list(coll.find(query, projection).sort('price', pymongo.DESCENDING))\n",
    "cellar_prices = [docs['price'] for docs in docs if docs['price'] < 80]\n",
    "\n",
    "# Histograms of the ticket prices by location\n",
    "fig, (ax1, ax2, ax3)  = plt.subplots(3, 1, sharex = True, sharey = True, figsize = (7,10))\n",
    "\n",
    "# Carolines\n",
    "ax1 = plt.subplot(311)\n",
    "bins = list(range(0, 60, 5))\n",
    "plt.hist(carolines_prices, bins=bins)\n",
    "plt.setp(ax1.get_xticklabels(), visible=False)\n",
    "plt.setp(ax1.get_yticklabels(), fontsize=13)\n",
    "plt.ylabel('Carolines\\n\\n$\\\\regular_{Frequency}$', fontsize=16)\n",
    "plt.suptitle('Ticket Prices by Location', fontsize=20)\n",
    "plt.title('Excluding Outliers', y=1.15, fontsize=14)\n",
    "\n",
    "# Comedy Cellar\n",
    "ax2 = plt.subplot(312, sharex=ax1, sharey=ax1)\n",
    "plt.hist(cellar_prices, bins=bins)\n",
    "plt.setp(ax2.get_xticklabels(), fontsize=13)\n",
    "plt.setp(ax2.get_yticklabels(), fontsize=13)\n",
    "plt.ylabel('Comedy Cellar\\n\\n$\\\\regular_{Frequency}$', fontsize=16)\n",
    "\n",
    "# The Stand NYC\n",
    "ax3 = plt.subplot(313, sharex=ax1, sharey=ax1)\n",
    "plt.hist(stand_prices, bins=bins)\n",
    "plt.setp(ax3.get_xticklabels(), fontsize=13)\n",
    "plt.setp(ax3.get_yticklabels(), fontsize=13)\n",
    "plt.ylabel('The Stand NYC\\n\\n$\\\\regular_{Frequency}$', fontsize=16)\n",
    "plt.xlabel('\\nPrice in US$', fontsize=16)\n",
    "plt.subplots_adjust(hspace=0)\n",
    "\n",
    "plt.show()"
   ]
  },
  {
   "cell_type": "markdown",
   "metadata": {},
   "source": [
    "The Comedy Cellar's shows have a much smaller range for ticket prices with a similar median to that of The Stand.  They both also have very clear modes, where as Carolines' spread of prices is much more uniform.   In general, Carolines's ticket prices are more expensive than those of the other two locations."
   ]
  },
  {
   "cell_type": "markdown",
   "metadata": {},
   "source": [
    "### Correct performer names"
   ]
  },
  {
   "cell_type": "markdown",
   "metadata": {},
   "source": [
    "There were two performers' names that were not expressed consistently in the data.  The first is Big Jay Oakerson.  He is mostly known by this moniker, but he was also included as Jay Oakerson.  I updated all appearances of this shortened name to the longer version.\n",
    "\n",
    "Additionally, sometimes Roy Wood, Jr. was included in the data without a comma or period, or with junior in lowercase.  These were corrected to Roy Wood, Jr."
   ]
  },
  {
   "cell_type": "code",
   "execution_count": 25,
   "metadata": {},
   "outputs": [
    {
     "name": "stdout",
     "output_type": "stream",
     "text": [
      "{'acts': [{'name': 'Jay Oakerson', 'type': 'performer'}]}\n",
      "{'acts': [{'name': 'Jay Oakerson', 'type': 'performer'}]}\n"
     ]
    }
   ],
   "source": [
    "query = {'acts.name' : 'Jay Oakerson'}\n",
    "projection = {'_id': 0, 'acts.$.name': 1}\n",
    "for c in coll.find(query, projection):\n",
    "    pprint(c)"
   ]
  },
  {
   "cell_type": "code",
   "execution_count": 26,
   "metadata": {},
   "outputs": [
    {
     "name": "stdout",
     "output_type": "stream",
     "text": [
      "{'acts': [{'name': 'Big Jay Oakerson', 'type': 'performer'}]}\n",
      "{'acts': [{'name': 'Big Jay Oakerson', 'type': 'performer'}]}\n",
      "{'acts': [{'name': 'Big Jay Oakerson', 'type': 'performer'}]}\n",
      "{'acts': [{'name': 'Big Jay Oakerson', 'type': 'performer'}]}\n",
      "{'acts': [{'name': 'Big Jay Oakerson', 'type': 'performer'}]}\n",
      "{'acts': [{'name': 'Big Jay Oakerson', 'type': 'performer'}]}\n",
      "{'acts': [{'name': 'Big Jay Oakerson', 'type': 'performer'}]}\n",
      "{'acts': [{'name': 'Big Jay Oakerson', 'type': 'performer'}]}\n",
      "{'acts': [{'name': 'Big Jay Oakerson', 'type': 'performer'}]}\n",
      "{'acts': [{'name': 'Big Jay Oakerson', 'type': 'performer'}]}\n",
      "{'acts': [{'name': 'Big Jay Oakerson', 'type': 'performer'}]}\n",
      "{'acts': [{'name': 'Big Jay Oakerson', 'type': 'performer'}]}\n",
      "{'acts': [{'name': 'Big Jay Oakerson', 'type': 'performer'}]}\n",
      "{'acts': [{'name': 'Big Jay Oakerson', 'type': 'performer'}]}\n"
     ]
    }
   ],
   "source": [
    "coll.update_many({'acts.name': 'Jay Oakerson'},\n",
    "                 {'$set': {'acts.$.name': 'Big Jay Oakerson'}})\n",
    "    \n",
    "query = {'acts.name' : {'$regex': 'Jay Oakerson'}}\n",
    "projection = {'_id': 0, 'acts.$.name': 1}\n",
    "for c in coll.find(query, projection):\n",
    "    pprint(c)"
   ]
  },
  {
   "cell_type": "code",
   "execution_count": 27,
   "metadata": {},
   "outputs": [
    {
     "name": "stdout",
     "output_type": "stream",
     "text": [
      "{'acts': [{'name': 'Tony Woods', 'type': 'performer'}]}\n",
      "{'acts': [{'name': 'Tony Woods', 'type': 'performer'}]}\n",
      "{'acts': [{'name': 'Roy Wood jr', 'type': 'performer'}]}\n",
      "{'acts': [{'name': 'Roy Wood jr', 'type': 'performer'}]}\n",
      "{'acts': [{'name': 'Roy Wood jr', 'type': 'performer'}]}\n",
      "{'acts': [{'name': 'Roy Wood jr', 'type': 'performer'}]}\n",
      "{'acts': [{'name': 'Roy Wood jr', 'type': 'performer'}]}\n",
      "{'acts': [{'name': 'Roy Wood jr', 'type': 'performer'}]}\n",
      "{'acts': [{'name': 'Roy Wood, Jr.', 'type': 'performer'}]}\n"
     ]
    }
   ],
   "source": [
    "query = {'acts.name': {'$regex': 'Wood'}}\n",
    "projection = {'_id': 0, 'acts.$.name': 1}\n",
    "\n",
    "for c in coll.find(query, projection):\n",
    "    pprint(c)"
   ]
  },
  {
   "cell_type": "code",
   "execution_count": 28,
   "metadata": {},
   "outputs": [
    {
     "name": "stdout",
     "output_type": "stream",
     "text": [
      "{'acts': [{'name': 'Tony Woods', 'type': 'performer'}]}\n",
      "{'acts': [{'name': 'Tony Woods', 'type': 'performer'}]}\n",
      "{'acts': [{'name': 'Roy Wood, Jr.', 'type': 'performer'}]}\n",
      "{'acts': [{'name': 'Roy Wood, Jr.', 'type': 'performer'}]}\n",
      "{'acts': [{'name': 'Roy Wood, Jr.', 'type': 'performer'}]}\n",
      "{'acts': [{'name': 'Roy Wood, Jr.', 'type': 'performer'}]}\n",
      "{'acts': [{'name': 'Roy Wood, Jr.', 'type': 'performer'}]}\n",
      "{'acts': [{'name': 'Roy Wood, Jr.', 'type': 'performer'}]}\n",
      "{'acts': [{'name': 'Roy Wood, Jr.', 'type': 'performer'}]}\n"
     ]
    }
   ],
   "source": [
    "coll.update_many({'acts.name': 'Roy Wood jr'},\n",
    "                 {'$set': {'acts.$.name': 'Roy Wood, Jr.'}})\n",
    "\n",
    "query = {'acts.name': {'$regex': 'Wood'}}\n",
    "projection = {'_id': 0, 'acts.$.name': 1}\n",
    "\n",
    "for c in coll.find(query, projection):\n",
    "    pprint(c)"
   ]
  },
  {
   "cell_type": "markdown",
   "metadata": {},
   "source": [
    "### Number of shows with no acts"
   ]
  },
  {
   "cell_type": "code",
   "execution_count": 29,
   "metadata": {},
   "outputs": [
    {
     "data": {
      "text/plain": [
       "11"
      ]
     },
     "execution_count": 29,
     "metadata": {},
     "output_type": "execute_result"
    }
   ],
   "source": [
    "coll.find({'acts' : {'$exists': 0}}).count()"
   ]
  },
  {
   "cell_type": "markdown",
   "metadata": {},
   "source": [
    "### Number of shows with only one act"
   ]
  },
  {
   "cell_type": "code",
   "execution_count": 30,
   "metadata": {},
   "outputs": [
    {
     "data": {
      "text/plain": [
       "91"
      ]
     },
     "execution_count": 30,
     "metadata": {},
     "output_type": "execute_result"
    }
   ],
   "source": [
    "coll.find({'acts': {'$size': 1}}).count()"
   ]
  },
  {
   "cell_type": "markdown",
   "metadata": {},
   "source": [
    "### Top ten performers by number of shows"
   ]
  },
  {
   "cell_type": "code",
   "execution_count": 31,
   "metadata": {},
   "outputs": [
    {
     "name": "stdout",
     "output_type": "stream",
     "text": [
      "{'_id': 'Ari Shaffir', 'count': 24}\n",
      "{'_id': 'Vladimir Caamano', 'count': 15}\n",
      "{'_id': 'Big Jay Oakerson', 'count': 14}\n",
      "{'_id': 'Jessica Kirson', 'count': 12}\n",
      "{'_id': 'Mike Vecchione', 'count': 11}\n",
      "{'_id': 'Aaron Berg', 'count': 10}\n",
      "{'_id': 'Michelle Wolf', 'count': 10}\n",
      "{'_id': 'Keith Robinson', 'count': 9}\n",
      "{'_id': 'Dan St. Germain', 'count': 9}\n",
      "{'_id': 'Laurie Kilmartin', 'count': 9}\n"
     ]
    }
   ],
   "source": [
    "res = coll.aggregate([\n",
    "        {'$unwind': '$acts'},\n",
    "        {'$group': {'_id': '$acts.name',\n",
    "                    'count': {'$sum': 1}}},\n",
    "        {'$sort': {'count': -1}},\n",
    "        {'$limit': 10}\n",
    "])\n",
    "\n",
    "for r in res:\n",
    "    pprint(r)"
   ]
  },
  {
   "cell_type": "markdown",
   "metadata": {},
   "source": [
    "### Number of unique performers"
   ]
  },
  {
   "cell_type": "code",
   "execution_count": 32,
   "metadata": {},
   "outputs": [
    {
     "data": {
      "text/plain": [
       "215"
      ]
     },
     "execution_count": 32,
     "metadata": {},
     "output_type": "execute_result"
    }
   ],
   "source": [
    "len(coll.distinct('acts.name'))"
   ]
  },
  {
   "cell_type": "markdown",
   "metadata": {},
   "source": [
    "### Number of unique performers by location"
   ]
  },
  {
   "cell_type": "code",
   "execution_count": 33,
   "metadata": {},
   "outputs": [
    {
     "name": "stdout",
     "output_type": "stream",
     "text": [
      "{'_id': 'Carolines', 'num_unique_acts': 102}\n",
      "{'_id': 'Comedy Cellar - MacDougal Street', 'num_unique_acts': 68}\n",
      "{'_id': 'The Stand NYC', 'num_unique_acts': 51}\n",
      "{'_id': 'Comedy Cellar - Village Underground', 'num_unique_acts': 50}\n",
      "{'_id': 'Comedy Cellar - Fat Black Pussycat Lounge', 'num_unique_acts': 25}\n"
     ]
    }
   ],
   "source": [
    "res = coll.aggregate([\n",
    "        {'$unwind': '$acts'},\n",
    "        {'$group': {'_id': '$location',\n",
    "                    'unique_acts': {'$addToSet': '$acts.name'}}},\n",
    "        {'$project': {'_id': 1,\n",
    "                      'num_unique_acts': {'$size': '$unique_acts'}}},\n",
    "        {'$sort': {'num_unique_acts': -1}}\n",
    "])\n",
    "                      \n",
    "for r in res:\n",
    "    pprint(r)"
   ]
  },
  {
   "cell_type": "markdown",
   "metadata": {},
   "source": [
    "### Acts that appear at least three clubs"
   ]
  },
  {
   "cell_type": "code",
   "execution_count": 34,
   "metadata": {},
   "outputs": [
    {
     "name": "stdout",
     "output_type": "stream",
     "text": [
      "{'_id': 'Rachel Feinstein', 'num_clubs': 4}\n",
      "{'_id': 'Chris Distefano', 'num_clubs': 4}\n",
      "{'_id': 'Jessica Kirson', 'num_clubs': 4}\n",
      "{'_id': 'Nathan Macintosh', 'num_clubs': 3}\n",
      "{'_id': 'Judah Friedlander', 'num_clubs': 3}\n",
      "{'_id': 'Lynne Koplitz', 'num_clubs': 3}\n",
      "{'_id': 'Joe List', 'num_clubs': 3}\n",
      "{'_id': 'Ryan Hamilton', 'num_clubs': 3}\n",
      "{'_id': 'Ricky Velez', 'num_clubs': 3}\n",
      "{'_id': 'Big Jay Oakerson', 'num_clubs': 3}\n",
      "{'_id': 'Michelle Wolf', 'num_clubs': 3}\n",
      "{'_id': 'Liz Miele', 'num_clubs': 3}\n",
      "{'_id': 'Ari Shaffir', 'num_clubs': 3}\n",
      "{'_id': 'Carmen Lynch', 'num_clubs': 3}\n",
      "{'_id': 'Jared Freid', 'num_clubs': 3}\n",
      "{'_id': 'Roy Wood, Jr.', 'num_clubs': 3}\n",
      "{'_id': 'Lenny Marcus', 'num_clubs': 3}\n",
      "{'_id': 'Dov Davidoff', 'num_clubs': 3}\n",
      "{'_id': 'Des Bishop', 'num_clubs': 3}\n",
      "{'_id': 'Mike Yard', 'num_clubs': 3}\n",
      "{'_id': 'Ryan Reiss', 'num_clubs': 3}\n"
     ]
    }
   ],
   "source": [
    "res = coll.aggregate([\n",
    "        {'$unwind': '$acts'},\n",
    "        {'$group': {'_id': '$acts.name',\n",
    "                    'clubs': {'$addToSet': '$location'}}},\n",
    "        {'$project': {'_id': 1,\n",
    "                      'num_clubs': {'$size': '$clubs'}}},\n",
    "        {'$match': {'num_clubs': {'$gte': 3}}},\n",
    "        {'$sort': {'num_clubs': -1}}\n",
    "])\n",
    "                      \n",
    "for r in res:\n",
    "    pprint(r)"
   ]
  },
  {
   "cell_type": "markdown",
   "metadata": {},
   "source": [
    "### Performers with the greatest number of appearances as MC"
   ]
  },
  {
   "cell_type": "code",
   "execution_count": 35,
   "metadata": {},
   "outputs": [
    {
     "name": "stdout",
     "output_type": "stream",
     "text": [
      "{'_id': 'Wil Sylvince', 'count': 7}\n",
      "{'_id': 'Mike Yard', 'count': 6}\n",
      "{'_id': 'Hasan Minhaj', 'count': 6}\n",
      "{'_id': 'William Stephenson', 'count': 4}\n",
      "{'_id': 'Ryan Reiss', 'count': 4}\n",
      "{'_id': 'Jared Freid', 'count': 3}\n",
      "{'_id': 'Seaton C. Smith', 'count': 3}\n",
      "{'_id': 'Mike Finoia', 'count': 3}\n",
      "{'_id': 'Ardie Fuqua', 'count': 3}\n",
      "{'_id': 'Lynne Koplitz', 'count': 2}\n"
     ]
    }
   ],
   "source": [
    "res = coll.aggregate([\n",
    "        {'$unwind': '$acts'},\n",
    "        {'$match': {'acts.type': 'MC'}},\n",
    "        {'$group': {'_id': '$acts.name',\n",
    "                    'count': {'$sum': 1}}},\n",
    "        {'$sort': {'count': -1}},\n",
    "        {'$limit': 10}\n",
    "])\n",
    "\n",
    "for r in res:\n",
    "    pprint(r)"
   ]
  },
  {
   "cell_type": "markdown",
   "metadata": {},
   "source": [
    "### Acts by the highest average ticket price (excluding outliers)"
   ]
  },
  {
   "cell_type": "code",
   "execution_count": 36,
   "metadata": {},
   "outputs": [
    {
     "name": "stdout",
     "output_type": "stream",
     "text": [
      "{'_id': 'JB Smoove', 'average_price': 53.0}\n",
      "{'_id': 'Jeff Ross', 'average_price': 49.0}\n",
      "{'_id': 'Corey Holcomb', 'average_price': 46.833333333333336}\n",
      "{'_id': 'Sinbad', 'average_price': 45.75}\n",
      "{'_id': 'Donnell Rawlings', 'average_price': 41.0}\n",
      "{'_id': 'Aida Rodriguez', 'average_price': 40.0}\n",
      "{'_id': 'Jim Florentine', 'average_price': 40.0}\n",
      "{'_id': 'Aligon Mitra', 'average_price': 38.25}\n",
      "{'_id': 'Kerry Coddett', 'average_price': 38.25}\n",
      "{'_id': 'Francis Ellis', 'average_price': 38.25}\n"
     ]
    }
   ],
   "source": [
    "res = coll.aggregate([\n",
    "        {'$unwind': '$acts'},\n",
    "        {'$match': {'price' : {'$lt': 80}}},\n",
    "        {'$group': {'_id': '$acts.name',\n",
    "                    'average_price': {'$avg': '$price'}}},\n",
    "        {'$sort': {'average_price': -1}},\n",
    "        {'$limit': 10}\n",
    "])\n",
    "\n",
    "for r in res:\n",
    "    pprint(r)"
   ]
  },
  {
   "cell_type": "markdown",
   "metadata": {},
   "source": [
    "### Number of shows by Daily Show correspondents or contributors"
   ]
  },
  {
   "cell_type": "code",
   "execution_count": 37,
   "metadata": {},
   "outputs": [
    {
     "name": "stdout",
     "output_type": "stream",
     "text": [
      "{'_id': 'Michelle Wolf', 'count': 10}\n",
      "{'_id': 'Roy Wood, Jr.', 'count': 7}\n",
      "{'_id': 'Hasan Minhaj', 'count': 6}\n",
      "{'_id': 'Dulce Sloan', 'count': 1}\n",
      "{'_id': 'Ronny Chieng', 'count': 1}\n"
     ]
    }
   ],
   "source": [
    "ds_corr_contrib = ['Ronny Chieng', 'Hasan Minhaj', 'Roy Wood, Jr.',\n",
    "                   'Desi Lydic', 'Michael Kosta', 'Dulce Sloan',\n",
    "                   'Lewis Black', 'Neal Brennan', 'Michelle Wolf',\n",
    "                   'Gina Yashere']\n",
    "\n",
    "res = coll.aggregate([\n",
    "        {'$unwind': '$acts'},\n",
    "        {'$match': {'acts.name': {'$in': ds_corr_contrib}}},\n",
    "        {'$group': {'_id': '$acts.name',\n",
    "                    'count': {'$sum': 1}}},\n",
    "        {'$sort': {'count': -1}}\n",
    "])\n",
    "         \n",
    "for r in res:\n",
    "    pprint(r)"
   ]
  }
 ],
 "metadata": {
  "kernelspec": {
   "display_name": "Python 3",
   "language": "python",
   "name": "python3"
  },
  "language_info": {
   "codemirror_mode": {
    "name": "ipython",
    "version": 3
   },
   "file_extension": ".py",
   "mimetype": "text/x-python",
   "name": "python",
   "nbconvert_exporter": "python",
   "pygments_lexer": "ipython3",
   "version": "3.6.3"
  }
 },
 "nbformat": 4,
 "nbformat_minor": 2
}
