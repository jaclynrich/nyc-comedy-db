{
 "cells": [
  {
   "cell_type": "markdown",
   "metadata": {},
   "source": [
    "# Scraping for, Storing, and Exploring New York City Comedy Shows"
   ]
  },
  {
   "cell_type": "markdown",
   "metadata": {},
   "source": [
    "As a big fan of stand-up comedy, I found myself frustrated at the design of the Comedy Cellar's website and the lack of central lists of shows going on in New York City; apart from bigger shows which are usually listed on such sites as Ticketmaster, show information is only listed on individual comedy club websites.\n",
    "\n",
    "I was inspired to assemble the Comedy Cellar's shows, after interacting with their website. Users choose a date from a dropdown menu and it shows  the headlines for all of the shows that night, but then it requires the user to click on each headline individually to reveal the shows full information.  For each page this could require a user to click upto about ten times to show all the information desired.\n",
    "\n",
    "The goal of this project was to both include the show information for the Comedy Cellar in an easily queryable format, and to store show information for multiple clubs in one database.  Currently I have successfully scraped for shows from the Comedy Cellar, The Stand NYC, and Carolines, with the possibility of adding more clubs in the future.  The shows were scraped for using BeautifulSoup on December 16, 2017.\n",
    "\n",
    "I chose MongoDB to store the shows, since it has a flexible schema and not all shows had values for all fields, and it would be better suited to storing array fields than SQL."
   ]
  },
  {
   "cell_type": "markdown",
   "metadata": {},
   "source": [
    "## Load in the Data"
   ]
  },
  {
   "cell_type": "code",
   "execution_count": 1,
   "metadata": {
    "collapsed": true
   },
   "outputs": [],
   "source": [
    "from pymongo import MongoClient\n",
    "from pprint import pprint\n",
    "import json\n",
    "from datetime import datetime"
   ]
  },
  {
   "cell_type": "code",
   "execution_count": 2,
   "metadata": {
    "collapsed": true
   },
   "outputs": [],
   "source": [
    "client = MongoClient('localhost:27017')\n",
    "db = client['comedy']\n",
    "coll = db.shows"
   ]
  },
  {
   "cell_type": "code",
   "execution_count": 5,
   "metadata": {
    "collapsed": true
   },
   "outputs": [],
   "source": [
    "all_shows = []\n",
    "\n",
    "# Import all shows into the database\n",
    "with open('cellar_shows.json', 'r') as f_cellar, \\\n",
    "     open('the_stand_shows.json', 'r') as f_stand, \\\n",
    "     open('carolines_shows.json', 'r') as f_carolines:\n",
    "     \n",
    "    cellar_shows = json.load(f_cellar)\n",
    "    stand_shows = json.load(f_stand)\n",
    "    carolines_shows = json.load(f_carolines)\n",
    "     \n",
    "    all_shows = cellar_shows + stand_shows + carolines_shows\n",
    "    \n",
    "    # Convert dates and times to datetime objects\n",
    "    for d in all_shows:\n",
    "        d['date'] = datetime.strptime(d['date'], '%B %d, %Y')         \n",
    "        for key, val in d['time'].items():\n",
    "            d['time'][key] = datetime.strptime(val, '%B %d, %Y %I:%M %p')\n",
    "        coll.insert_one(d)"
   ]
  },
  {
   "cell_type": "markdown",
   "metadata": {},
   "source": []
  },
  {
   "cell_type": "code",
   "execution_count": 6,
   "metadata": {},
   "outputs": [
    {
     "data": {
      "text/plain": [
       "190"
      ]
     },
     "execution_count": 6,
     "metadata": {},
     "output_type": "execute_result"
    }
   ],
   "source": [
    "coll.find().count()"
   ]
  },
  {
   "cell_type": "code",
   "execution_count": null,
   "metadata": {
    "collapsed": true
   },
   "outputs": [],
   "source": []
  },
  {
   "cell_type": "code",
   "execution_count": null,
   "metadata": {
    "collapsed": true
   },
   "outputs": [],
   "source": []
  },
  {
   "cell_type": "code",
   "execution_count": null,
   "metadata": {
    "collapsed": true
   },
   "outputs": [],
   "source": []
  }
 ],
 "metadata": {
  "kernelspec": {
   "display_name": "Python 3",
   "language": "python",
   "name": "python3"
  },
  "language_info": {
   "codemirror_mode": {
    "name": "ipython",
    "version": 3
   },
   "file_extension": ".py",
   "mimetype": "text/x-python",
   "name": "python",
   "nbconvert_exporter": "python",
   "pygments_lexer": "ipython3",
   "version": "3.6.3"
  }
 },
 "nbformat": 4,
 "nbformat_minor": 2
}
